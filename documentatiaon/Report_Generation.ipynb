{
 "cells": [
  {
   "cell_type": "code",
   "execution_count": 17,
   "metadata": {},
   "outputs": [
    {
     "name": "stdout",
     "output_type": "stream",
     "text": [
      "3.7.16 (default, Jan 17 2023, 16:06:28) [MSC v.1916 64 bit (AMD64)]\n"
     ]
    }
   ],
   "source": [
    "import sys\n",
    "print(sys.version)\n",
    "from dc2frameworkpy import *\n",
    "from IPython.display import display, HTML\n",
    "import os\n",
    "import subprocess\n",
    "import markdown"
   ]
  },
  {
   "attachments": {},
   "cell_type": "markdown",
   "metadata": {},
   "source": [
    "## Design the report here\n",
    "\n",
    "Lets assume that we have the following input data \n",
    "\n",
    "Pile: \n",
    "\n",
    "- Diameter $D$ = 1.85m\n",
    "- Embedment $L$ = 64m\n",
    "- Thickness $t$ = 0.05m, i.e, 50mm thick"
   ]
  },
  {
   "cell_type": "code",
   "execution_count": 18,
   "metadata": {},
   "outputs": [
    {
     "name": "stdout",
     "output_type": "stream",
     "text": [
      "list.remove(x): x not in list\n"
     ]
    }
   ],
   "source": [
    "import sys\n",
    "try:\n",
    "    sys.path.remove('C:\\\\Program Files\\\\Plaxis\\\\PLAXIS 2D 2019\\\\python\\\\Lib\\\\site-packages\\\\plxscripting')\n",
    "except Exception as e:\n",
    "    print(e)"
   ]
  },
  {
   "cell_type": "code",
   "execution_count": 19,
   "metadata": {},
   "outputs": [],
   "source": [
    "pile_capacity_calc = Calculation('27427201') "
   ]
  },
  {
   "cell_type": "code",
   "execution_count": 20,
   "metadata": {},
   "outputs": [],
   "source": [
    "pile_capacity_calc.AddSubHeader('Input',level=2)\n",
    "D = pile_capacity_calc.DeclareVariable(1.5,'D','m','Pile Diameter','D')\n",
    "t = pile_capacity_calc.DeclareVariable(0.05,'t','m','Pile Diameter','t')\n",
    "L = pile_capacity_calc.DeclareVariable(45,'L','m','Embedment','L')\n",
    "\n",
    "pile_capacity_calc.AddSubHeader('Calculation',level=2)\n",
    "A_base = pile_capacity_calc.CalcVariable(1/4*Pi()*D**2,'A_base','m^2','Base area of pile','A_{base}')\n",
    "\n",
    "# Let's add some body text here\n",
    "pile_capacity_calc.AddBodyText('''\n",
    "This is a text ${\\alpha}\n",
    "''')"
   ]
  },
  {
   "attachments": {},
   "cell_type": "markdown",
   "metadata": {},
   "source": []
  },
  {
   "cell_type": "code",
   "execution_count": 23,
   "metadata": {},
   "outputs": [
    {
     "data": {
      "text/html": [
       "<style>\r\n",
       "            \r\n",
       "            @media only print {\r\n",
       "                body {\r\n",
       "                    font-size: 10px;\r\n",
       "                }\r\n",
       "            }\r\n",
       "            \r\n",
       "            .dcContainer {\r\n",
       "                display: flex;\r\n",
       "                width: 100%;\r\n",
       "                align-items: baseline;\r\n",
       "            }\r\n",
       "\r\n",
       "            .equationSpacing {\r\n",
       "                margin-top: 5px;\r\n",
       "                margin-bottom: 5px;\r\n",
       "            }\r\n",
       "            \r\n",
       "            .dcContainer > div {\r\n",
       "                box-sizing: border-box;\r\n",
       "            }\r\n",
       "\r\n",
       "            .leftGutter {\r\n",
       "                flex: 0 0 20%;\r\n",
       "            }\r\n",
       "            \r\n",
       "            .div10 {\r\n",
       "                flex: 0 1 10%;\r\n",
       "            }\r\n",
       "\r\n",
       "            .div15 {\r\n",
       "                flex: 0 1 15%;\r\n",
       "            }\r\n",
       "            \r\n",
       "            .div20 {\r\n",
       "                flex: 0 1 20%;\r\n",
       "            }\r\n",
       "\r\n",
       "            .div30 {\r\n",
       "                flex: 0 1 30%;\r\n",
       "            }\r\n",
       "\r\n",
       "            .div40 {\r\n",
       "                flex: 0 1 40%;\r\n",
       "            }\r\n",
       "\r\n",
       "            .div45 {\r\n",
       "                flex: 0 1 45%;\r\n",
       "            }\r\n",
       "\r\n",
       "            .div50 {\r\n",
       "                flex: 0 1 50%;\r\n",
       "            }\r\n",
       "\r\n",
       "            .div60 {\r\n",
       "                flex: 0 1 60%;\r\n",
       "            }\r\n",
       "\r\n",
       "            .div80 {\r\n",
       "                flex: 0 1 80%;\r\n",
       "            }\r\n",
       "\r\n",
       "            .div85 {\r\n",
       "                flex: 0 1 85%;\r\n",
       "            }\r\n",
       "\r\n",
       "            .div90 {\r\n",
       "                flex: 0 1 90%;\r\n",
       "            }\r\n",
       "\r\n",
       "            .div100 {\r\n",
       "                flex: 0 1 100%;\r\n",
       "            }\r\n",
       "\r\n",
       "            .dcRight {\r\n",
       "                text-align: right;\r\n",
       "            }\r\n",
       "\r\n",
       "            .dcTop {\r\n",
       "                vertical-align: top;\r\n",
       "            }\r\n",
       "\r\n",
       "            .dcSymbol {\r\n",
       "                padding-right: 3px;\r\n",
       "                padding-left: 3px;\r\n",
       "                text-align: right;\r\n",
       "            }\r\n",
       "\r\n",
       "            .dcVerticalSeperation {\r\n",
       "                margin-top: 5px;\r\n",
       "                margin-bottom: 5px;\r\n",
       "            }\r\n",
       "\r\n",
       "            .dcTable {\r\n",
       "                border: solid 1px black;\r\n",
       "                border-collapse: collapse;\r\n",
       "                padding: 10px;\r\n",
       "                text-align: left;\r\n",
       "                width:100%;\r\n",
       "            }\r\n",
       "\r\n",
       "            .dcTable td, .dcTable th {\r\n",
       "                border: solid 1px black;\r\n",
       "                padding: 5px;\r\n",
       "            }\r\n",
       "            \r\n",
       "            .LOR_WIP {\r\n",
       "                color: red;\r\n",
       "            }\r\n",
       "\r\n",
       "            .LOR_Complete {\r\n",
       "                color: orange;\r\n",
       "            }\r\n",
       "\r\n",
       "            .LOR_CompleteWithTests {\r\n",
       "                color: green;\r\n",
       "            }\r\n",
       "\r\n",
       "            .errors {\r\n",
       "                color: red;\r\n",
       "            }\r\n",
       "\r\n",
       "            .warnings {\r\n",
       "                color: darkorange;\r\n",
       "            }\r\n",
       "\r\n",
       "            .remarks {\r\n",
       "                color: blue;\r\n",
       "            }\r\n",
       "\r\n",
       "            /*Insert your CSS here*/\r\n",
       "            \r\n",
       "            </style><div class=\"dcContainer dcVerticalSeperation dcSubHeading\"><div class=\"leftGutter dcTop\"></div><div class=\"div60\"><h3>Input</h3></div><div class=\"div20\"></div></div><div class=\"dcContainer dcVerticalSeperation dcDeclareVariable\"><div class=\"leftGutter\"></div><div class=\"div20\">Pile Diameter</div><div class=\"div60\"><div class=\"dcContainer equationSpacing\"><div class=\"dcSymbol div15\">$\\displaystyle D=$</div><div class=\"div85\">$\\displaystyle {1.5}{\\,m}$</div></div></div></div><div class=\"dcContainer dcVerticalSeperation dcDeclareVariable\"><div class=\"leftGutter\"></div><div class=\"div20\">Pile Diameter</div><div class=\"div60\"><div class=\"dcContainer equationSpacing\"><div class=\"dcSymbol div15\">$\\displaystyle t=$</div><div class=\"div85\">$\\displaystyle {0.05}{\\,m}$</div></div></div></div><div class=\"dcContainer dcVerticalSeperation dcDeclareVariable\"><div class=\"leftGutter\"></div><div class=\"div20\">Embedment</div><div class=\"div60\"><div class=\"dcContainer equationSpacing\"><div class=\"dcSymbol div15\">$\\displaystyle L=$</div><div class=\"div85\">$\\displaystyle {45}{\\,m}$</div></div></div></div><div class=\"dcContainer dcVerticalSeperation dcSubHeading\"><div class=\"leftGutter dcTop\"></div><div class=\"div60\"><h3>Calculation</h3></div><div class=\"div20\"></div></div><div class=\"dcContainer dcVerticalSeperation dcCalculation\"><div class=\"leftGutter\"></div><div class=\"div20\">Base area of pile</div><div class=\"div60\"><div class=\"dcContainer equationSpacing\"><div class=\"dcSymbol div15\">$\\displaystyle A_{base}=$</div><div class=\"div85\">$\\displaystyle 0.25 \\times \\pi \\times {D}^{2}$</div></div><div class=\"dcContainer equationSpacing\"><div class=\"dcSymbol div15\">$\\displaystyle =$</div><div class=\"div85\">$\\displaystyle 0.25 \\times \\pi \\times \\left({{1.5}{\\,m}}\\right)^{2}$</div></div><div class=\"dcContainer equationSpacing\"><div class=\"dcSymbol div15\">$\\displaystyle =$</div><div class=\"div85\">$\\displaystyle {1.77}{\\,m^2}$</div></div></div></div><div class=\"dcContainer dcVerticalSeperation dcBodyText\"><div class=\"leftGutter dcTop\"><p></p></div><div class=\"div60\"><p>\n",
       "This is a text ${\u0007lpha}\n",
       "</p></div><div class=\"div20\"></div></div>"
      ],
      "text/plain": [
       "<IPython.core.display.HTML object>"
      ]
     },
     "metadata": {},
     "output_type": "display_data"
    }
   ],
   "source": [
    "display(HTML(pile_capacity_calc.Report_HTML()))"
   ]
  },
  {
   "cell_type": "code",
   "execution_count": 25,
   "metadata": {},
   "outputs": [],
   "source": [
    "def print_report(notebook_name=\"Report_Generation.ipynb\",filename='report'):\n",
    "    command = [\"jupyter\", \"nbconvert\", \"--no-input\",notebook_name, \n",
    "               \"--to\", \"html\",'--output',filename+'.html']\n",
    "    result = subprocess.run(command, capture_output=True)\n",
    "    os.startfile(filename+'.html')"
   ]
  },
  {
   "cell_type": "code",
   "execution_count": 26,
   "metadata": {},
   "outputs": [],
   "source": [
    "report()"
   ]
  },
  {
   "cell_type": "code",
   "execution_count": null,
   "metadata": {},
   "outputs": [],
   "source": []
  }
 ],
 "metadata": {
  "kernelspec": {
   "display_name": "dcpy",
   "language": "python",
   "name": "python3"
  },
  "language_info": {
   "codemirror_mode": {
    "name": "ipython",
    "version": 3
   },
   "file_extension": ".py",
   "mimetype": "text/x-python",
   "name": "python",
   "nbconvert_exporter": "python",
   "pygments_lexer": "ipython3",
   "version": "3.7.16"
  },
  "orig_nbformat": 4
 },
 "nbformat": 4,
 "nbformat_minor": 2
}
